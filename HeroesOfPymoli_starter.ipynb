{
 "cells": [
  {
   "cell_type": "markdown",
   "metadata": {},
   "source": [
    "### Note\n",
    "* Instructions have been included for each segment. You do not have to follow them exactly, but they are included to help you think through the steps."
   ]
  },
  {
   "cell_type": "code",
   "execution_count": 2,
   "metadata": {},
   "outputs": [
    {
     "data": {
      "text/html": [
       "<div>\n",
       "<style scoped>\n",
       "    .dataframe tbody tr th:only-of-type {\n",
       "        vertical-align: middle;\n",
       "    }\n",
       "\n",
       "    .dataframe tbody tr th {\n",
       "        vertical-align: top;\n",
       "    }\n",
       "\n",
       "    .dataframe thead th {\n",
       "        text-align: right;\n",
       "    }\n",
       "</style>\n",
       "<table border=\"1\" class=\"dataframe\">\n",
       "  <thead>\n",
       "    <tr style=\"text-align: right;\">\n",
       "      <th></th>\n",
       "      <th>Purchase ID</th>\n",
       "      <th>SN</th>\n",
       "      <th>Age</th>\n",
       "      <th>Gender</th>\n",
       "      <th>Item ID</th>\n",
       "      <th>Item Name</th>\n",
       "      <th>Price</th>\n",
       "    </tr>\n",
       "  </thead>\n",
       "  <tbody>\n",
       "    <tr>\n",
       "      <th>0</th>\n",
       "      <td>0</td>\n",
       "      <td>Lisim78</td>\n",
       "      <td>20</td>\n",
       "      <td>Male</td>\n",
       "      <td>108</td>\n",
       "      <td>Extraction, Quickblade Of Trembling Hands</td>\n",
       "      <td>3.53</td>\n",
       "    </tr>\n",
       "    <tr>\n",
       "      <th>1</th>\n",
       "      <td>1</td>\n",
       "      <td>Lisovynya38</td>\n",
       "      <td>40</td>\n",
       "      <td>Male</td>\n",
       "      <td>143</td>\n",
       "      <td>Frenzied Scimitar</td>\n",
       "      <td>1.56</td>\n",
       "    </tr>\n",
       "    <tr>\n",
       "      <th>2</th>\n",
       "      <td>2</td>\n",
       "      <td>Ithergue48</td>\n",
       "      <td>24</td>\n",
       "      <td>Male</td>\n",
       "      <td>92</td>\n",
       "      <td>Final Critic</td>\n",
       "      <td>4.88</td>\n",
       "    </tr>\n",
       "    <tr>\n",
       "      <th>3</th>\n",
       "      <td>3</td>\n",
       "      <td>Chamassasya86</td>\n",
       "      <td>24</td>\n",
       "      <td>Male</td>\n",
       "      <td>100</td>\n",
       "      <td>Blindscythe</td>\n",
       "      <td>3.27</td>\n",
       "    </tr>\n",
       "    <tr>\n",
       "      <th>4</th>\n",
       "      <td>4</td>\n",
       "      <td>Iskosia90</td>\n",
       "      <td>23</td>\n",
       "      <td>Male</td>\n",
       "      <td>131</td>\n",
       "      <td>Fury</td>\n",
       "      <td>1.44</td>\n",
       "    </tr>\n",
       "    <tr>\n",
       "      <th>5</th>\n",
       "      <td>5</td>\n",
       "      <td>Yalae81</td>\n",
       "      <td>22</td>\n",
       "      <td>Male</td>\n",
       "      <td>81</td>\n",
       "      <td>Dreamkiss</td>\n",
       "      <td>3.61</td>\n",
       "    </tr>\n",
       "    <tr>\n",
       "      <th>6</th>\n",
       "      <td>6</td>\n",
       "      <td>Itheria73</td>\n",
       "      <td>36</td>\n",
       "      <td>Male</td>\n",
       "      <td>169</td>\n",
       "      <td>Interrogator, Blood Blade of the Queen</td>\n",
       "      <td>2.18</td>\n",
       "    </tr>\n",
       "    <tr>\n",
       "      <th>7</th>\n",
       "      <td>7</td>\n",
       "      <td>Iskjaskst81</td>\n",
       "      <td>20</td>\n",
       "      <td>Male</td>\n",
       "      <td>162</td>\n",
       "      <td>Abyssal Shard</td>\n",
       "      <td>2.67</td>\n",
       "    </tr>\n",
       "    <tr>\n",
       "      <th>8</th>\n",
       "      <td>8</td>\n",
       "      <td>Undjask33</td>\n",
       "      <td>22</td>\n",
       "      <td>Male</td>\n",
       "      <td>21</td>\n",
       "      <td>Souleater</td>\n",
       "      <td>1.10</td>\n",
       "    </tr>\n",
       "    <tr>\n",
       "      <th>9</th>\n",
       "      <td>9</td>\n",
       "      <td>Chanosian48</td>\n",
       "      <td>35</td>\n",
       "      <td>Other / Non-Disclosed</td>\n",
       "      <td>136</td>\n",
       "      <td>Ghastly Adamantite Protector</td>\n",
       "      <td>3.58</td>\n",
       "    </tr>\n",
       "  </tbody>\n",
       "</table>\n",
       "</div>"
      ],
      "text/plain": [
       "   Purchase ID             SN  Age                 Gender  Item ID  \\\n",
       "0            0        Lisim78   20                   Male      108   \n",
       "1            1    Lisovynya38   40                   Male      143   \n",
       "2            2     Ithergue48   24                   Male       92   \n",
       "3            3  Chamassasya86   24                   Male      100   \n",
       "4            4      Iskosia90   23                   Male      131   \n",
       "5            5        Yalae81   22                   Male       81   \n",
       "6            6      Itheria73   36                   Male      169   \n",
       "7            7    Iskjaskst81   20                   Male      162   \n",
       "8            8      Undjask33   22                   Male       21   \n",
       "9            9    Chanosian48   35  Other / Non-Disclosed      136   \n",
       "\n",
       "                                   Item Name  Price  \n",
       "0  Extraction, Quickblade Of Trembling Hands   3.53  \n",
       "1                          Frenzied Scimitar   1.56  \n",
       "2                               Final Critic   4.88  \n",
       "3                                Blindscythe   3.27  \n",
       "4                                       Fury   1.44  \n",
       "5                                  Dreamkiss   3.61  \n",
       "6     Interrogator, Blood Blade of the Queen   2.18  \n",
       "7                              Abyssal Shard   2.67  \n",
       "8                                  Souleater   1.10  \n",
       "9               Ghastly Adamantite Protector   3.58  "
      ]
     },
     "execution_count": 2,
     "metadata": {},
     "output_type": "execute_result"
    }
   ],
   "source": [
    "# Dependencies and Setup\n",
    "import pandas as pd\n",
    "\n",
    "# File to Load (Remember to Change These)\n",
    "file_to_load = \"Resources/purchase_data.csv\"\n",
    "\n",
    "# Read Purchasing File and store into Pandas data frame\n",
    "purchase_data = pd.read_csv(file_to_load)\n",
    "purchase_data.head(10)"
   ]
  },
  {
   "cell_type": "markdown",
   "metadata": {},
   "source": [
    "## Player Count"
   ]
  },
  {
   "cell_type": "markdown",
   "metadata": {},
   "source": [
    "* Display the total number of players\n"
   ]
  },
  {
   "cell_type": "code",
   "execution_count": 3,
   "metadata": {},
   "outputs": [
    {
     "data": {
      "text/html": [
       "<div>\n",
       "<style scoped>\n",
       "    .dataframe tbody tr th:only-of-type {\n",
       "        vertical-align: middle;\n",
       "    }\n",
       "\n",
       "    .dataframe tbody tr th {\n",
       "        vertical-align: top;\n",
       "    }\n",
       "\n",
       "    .dataframe thead th {\n",
       "        text-align: right;\n",
       "    }\n",
       "</style>\n",
       "<table border=\"1\" class=\"dataframe\">\n",
       "  <thead>\n",
       "    <tr style=\"text-align: right;\">\n",
       "      <th></th>\n",
       "      <th>Total Players</th>\n",
       "    </tr>\n",
       "  </thead>\n",
       "  <tbody>\n",
       "    <tr>\n",
       "      <th>Total</th>\n",
       "      <td>576</td>\n",
       "    </tr>\n",
       "  </tbody>\n",
       "</table>\n",
       "</div>"
      ],
      "text/plain": [
       "       Total Players\n",
       "Total            576"
      ]
     },
     "execution_count": 3,
     "metadata": {},
     "output_type": "execute_result"
    }
   ],
   "source": [
    "#Grab total players and display in a dataframe\n",
    "total_players = purchase_data['SN'].nunique()\n",
    "total_df = pd.DataFrame({'Total Players': total_players}, index=['Total'])\n",
    "total_df"
   ]
  },
  {
   "cell_type": "markdown",
   "metadata": {},
   "source": [
    "## Purchasing Analysis (Total)"
   ]
  },
  {
   "cell_type": "markdown",
   "metadata": {},
   "source": [
    "* Run basic calculations to obtain number of unique items, average price, etc.\n",
    "\n",
    "\n",
    "* Create a summary data frame to hold the results\n",
    "\n",
    "\n",
    "* Optional: give the displayed data cleaner formatting\n",
    "\n",
    "\n",
    "* Display the summary data frame\n"
   ]
  },
  {
   "cell_type": "code",
   "execution_count": 16,
   "metadata": {
    "scrolled": true
   },
   "outputs": [
    {
     "data": {
      "text/html": [
       "<style  type=\"text/css\" >\n",
       "</style><table id=\"T_3bf7c_\" ><thead>    <tr>        <th class=\"blank level0\" ></th>        <th class=\"col_heading level0 col0\" >Unique Items</th>        <th class=\"col_heading level0 col1\" >Avg. Price</th>        <th class=\"col_heading level0 col2\" >Total Purchases</th>        <th class=\"col_heading level0 col3\" >Total Revenue</th>    </tr></thead><tbody>\n",
       "                <tr>\n",
       "                        <th id=\"T_3bf7c_level0_row0\" class=\"row_heading level0 row0\" >0</th>\n",
       "                        <td id=\"T_3bf7c_row0_col0\" class=\"data row0 col0\" >179</td>\n",
       "                        <td id=\"T_3bf7c_row0_col1\" class=\"data row0 col1\" >$3.05</td>\n",
       "                        <td id=\"T_3bf7c_row0_col2\" class=\"data row0 col2\" >780</td>\n",
       "                        <td id=\"T_3bf7c_row0_col3\" class=\"data row0 col3\" >$2,379.77</td>\n",
       "            </tr>\n",
       "    </tbody></table>"
      ],
      "text/plain": [
       "<pandas.io.formats.style.Styler at 0x1adeb83f550>"
      ]
     },
     "execution_count": 16,
     "metadata": {},
     "output_type": "execute_result"
    }
   ],
   "source": [
    "#Run calculations to find purchasing information\n",
    "unq_items = purchase_data['Item Name'].nunique()\n",
    "avg_price = purchase_data['Price'].mean()\n",
    "total_purchases = purchase_data['Purchase ID'].count()\n",
    "total_revenue = purchase_data['Price'].sum()\n",
    "\n",
    "#Create summary dataframe then format and display the data\n",
    "summary_df = pd.DataFrame({'Unique Items': unq_items, \n",
    "                           'Avg. Price': avg_price,\n",
    "                           'Total Purchases': total_purchases,\n",
    "                           'Total Revenue': total_revenue}, index = [0])\n",
    "\n",
    "#Format dataframe\n",
    "summary_df.style.format({'Avg. Price': '${:,.2f}',\n",
    "                         'Total Revenue': '${:,.2f}'})"
   ]
  },
  {
   "cell_type": "markdown",
   "metadata": {},
   "source": [
    "## Gender Demographics"
   ]
  },
  {
   "cell_type": "markdown",
   "metadata": {},
   "source": [
    "* Percentage and Count of Male Players\n",
    "\n",
    "\n",
    "* Percentage and Count of Female Players\n",
    "\n",
    "\n",
    "* Percentage and Count of Other / Non-Disclosed\n",
    "\n",
    "\n"
   ]
  },
  {
   "cell_type": "code",
   "execution_count": 7,
   "metadata": {},
   "outputs": [],
   "source": [
    "#Drop duplicates to get accurate gender percentages\n",
    "drop_duplicate_df = purchase_data.drop_duplicates(subset=['SN'])"
   ]
  },
  {
   "cell_type": "code",
   "execution_count": 8,
   "metadata": {},
   "outputs": [
    {
     "name": "stderr",
     "output_type": "stream",
     "text": [
      "C:\\Users\\colle\\anaconda3\\lib\\site-packages\\pandas\\core\\series.py:4509: SettingWithCopyWarning: \n",
      "A value is trying to be set on a copy of a slice from a DataFrame\n",
      "\n",
      "See the caveats in the documentation: https://pandas.pydata.org/pandas-docs/stable/user_guide/indexing.html#returning-a-view-versus-a-copy\n",
      "  return super().replace(\n"
     ]
    },
    {
     "data": {
      "text/html": [
       "<div>\n",
       "<style scoped>\n",
       "    .dataframe tbody tr th:only-of-type {\n",
       "        vertical-align: middle;\n",
       "    }\n",
       "\n",
       "    .dataframe tbody tr th {\n",
       "        vertical-align: top;\n",
       "    }\n",
       "\n",
       "    .dataframe thead th {\n",
       "        text-align: right;\n",
       "    }\n",
       "</style>\n",
       "<table border=\"1\" class=\"dataframe\">\n",
       "  <thead>\n",
       "    <tr style=\"text-align: right;\">\n",
       "      <th></th>\n",
       "      <th>Purchase ID</th>\n",
       "      <th>SN</th>\n",
       "      <th>Age</th>\n",
       "      <th>Gender</th>\n",
       "      <th>Item ID</th>\n",
       "      <th>Item Name</th>\n",
       "      <th>Price</th>\n",
       "    </tr>\n",
       "  </thead>\n",
       "  <tbody>\n",
       "    <tr>\n",
       "      <th>0</th>\n",
       "      <td>0</td>\n",
       "      <td>Lisim78</td>\n",
       "      <td>20</td>\n",
       "      <td>Male</td>\n",
       "      <td>108</td>\n",
       "      <td>Extraction, Quickblade Of Trembling Hands</td>\n",
       "      <td>3.53</td>\n",
       "    </tr>\n",
       "    <tr>\n",
       "      <th>1</th>\n",
       "      <td>1</td>\n",
       "      <td>Lisovynya38</td>\n",
       "      <td>40</td>\n",
       "      <td>Male</td>\n",
       "      <td>143</td>\n",
       "      <td>Frenzied Scimitar</td>\n",
       "      <td>1.56</td>\n",
       "    </tr>\n",
       "    <tr>\n",
       "      <th>2</th>\n",
       "      <td>2</td>\n",
       "      <td>Ithergue48</td>\n",
       "      <td>24</td>\n",
       "      <td>Male</td>\n",
       "      <td>92</td>\n",
       "      <td>Final Critic</td>\n",
       "      <td>4.88</td>\n",
       "    </tr>\n",
       "    <tr>\n",
       "      <th>3</th>\n",
       "      <td>3</td>\n",
       "      <td>Chamassasya86</td>\n",
       "      <td>24</td>\n",
       "      <td>Male</td>\n",
       "      <td>100</td>\n",
       "      <td>Blindscythe</td>\n",
       "      <td>3.27</td>\n",
       "    </tr>\n",
       "    <tr>\n",
       "      <th>4</th>\n",
       "      <td>4</td>\n",
       "      <td>Iskosia90</td>\n",
       "      <td>23</td>\n",
       "      <td>Male</td>\n",
       "      <td>131</td>\n",
       "      <td>Fury</td>\n",
       "      <td>1.44</td>\n",
       "    </tr>\n",
       "  </tbody>\n",
       "</table>\n",
       "</div>"
      ],
      "text/plain": [
       "   Purchase ID             SN  Age Gender  Item ID  \\\n",
       "0            0        Lisim78   20   Male      108   \n",
       "1            1    Lisovynya38   40   Male      143   \n",
       "2            2     Ithergue48   24   Male       92   \n",
       "3            3  Chamassasya86   24   Male      100   \n",
       "4            4      Iskosia90   23   Male      131   \n",
       "\n",
       "                                   Item Name  Price  \n",
       "0  Extraction, Quickblade Of Trembling Hands   3.53  \n",
       "1                          Frenzied Scimitar   1.56  \n",
       "2                               Final Critic   4.88  \n",
       "3                                Blindscythe   3.27  \n",
       "4                                       Fury   1.44  "
      ]
     },
     "execution_count": 8,
     "metadata": {},
     "output_type": "execute_result"
    }
   ],
   "source": [
    "#Replace Other/Non-Disclosed into OtherNA to get rid of divisor character\n",
    "drop_duplicate_df['Gender'].replace({'Other / Non-Disclosed': 'OtherNA'}, inplace=True)\n",
    "drop_duplicate_df.head()"
   ]
  },
  {
   "cell_type": "code",
   "execution_count": 32,
   "metadata": {},
   "outputs": [
    {
     "data": {
      "text/html": [
       "<style  type=\"text/css\" >\n",
       "</style><table id=\"T_1cbab_\" ><thead>    <tr>        <th class=\"blank level0\" ></th>        <th class=\"col_heading level0 col0\" >Total Count</th>        <th class=\"col_heading level0 col1\" >Percentage of Players</th>    </tr></thead><tbody>\n",
       "                <tr>\n",
       "                        <th id=\"T_1cbab_level0_row0\" class=\"row_heading level0 row0\" >Female</th>\n",
       "                        <td id=\"T_1cbab_row0_col0\" class=\"data row0 col0\" >81</td>\n",
       "                        <td id=\"T_1cbab_row0_col1\" class=\"data row0 col1\" >14.06%</td>\n",
       "            </tr>\n",
       "            <tr>\n",
       "                        <th id=\"T_1cbab_level0_row1\" class=\"row_heading level0 row1\" >Male</th>\n",
       "                        <td id=\"T_1cbab_row1_col0\" class=\"data row1 col0\" >484</td>\n",
       "                        <td id=\"T_1cbab_row1_col1\" class=\"data row1 col1\" >84.03%</td>\n",
       "            </tr>\n",
       "            <tr>\n",
       "                        <th id=\"T_1cbab_level0_row2\" class=\"row_heading level0 row2\" >Other / Non-Disclosed</th>\n",
       "                        <td id=\"T_1cbab_row2_col0\" class=\"data row2 col0\" >11</td>\n",
       "                        <td id=\"T_1cbab_row2_col1\" class=\"data row2 col1\" >1.91%</td>\n",
       "            </tr>\n",
       "    </tbody></table>"
      ],
      "text/plain": [
       "<pandas.io.formats.style.Styler at 0x1adeeb8c2b0>"
      ]
     },
     "execution_count": 32,
     "metadata": {},
     "output_type": "execute_result"
    }
   ],
   "source": [
    "#Group by gender and count gender group totals\n",
    "gender_group = purchase_data.groupby('Gender')\n",
    "gender_count = gender_group.nunique()['SN']\n",
    "\n",
    "#Calculate percentages for dataframe\n",
    "pct_gender = gender_count/total_players * 100\n",
    "\n",
    "#Create dataframe\n",
    "gender_dems_df = pd.DataFrame({'Total Count': gender_count,\n",
    "                               'Percentage of Players': pct_gender}, index=None)\n",
    "\n",
    "#Format dataframe\n",
    "gender_dems_df = gender_dems_df.rename_axis(index=None)\n",
    "gender_dems_df.style.format({'Percentage of Players': '{:,.2f}%'})\n"
   ]
  },
  {
   "cell_type": "markdown",
   "metadata": {},
   "source": [
    "\n",
    "## Purchasing Analysis (Gender)"
   ]
  },
  {
   "cell_type": "markdown",
   "metadata": {},
   "source": [
    "* Run basic calculations to obtain purchase count, avg. purchase price, avg. purchase total per person etc. by gender\n",
    "\n",
    "\n",
    "\n",
    "\n",
    "* Create a summary data frame to hold the results\n",
    "\n",
    "\n",
    "* Optional: give the displayed data cleaner formatting\n",
    "\n",
    "\n",
    "* Display the summary data frame"
   ]
  },
  {
   "cell_type": "code",
   "execution_count": 47,
   "metadata": {},
   "outputs": [
    {
     "data": {
      "text/html": [
       "<style  type=\"text/css\" >\n",
       "</style><table id=\"T_cf702_\" ><thead>    <tr>        <th class=\"blank level0\" ></th>        <th class=\"col_heading level0 col0\" >Purchase Count</th>        <th class=\"col_heading level0 col1\" >Avg. Purchase Price</th>        <th class=\"col_heading level0 col2\" >Total Purchase Value</th>        <th class=\"col_heading level0 col3\" >Avg. Total Purchase Per Person</th>    </tr></thead><tbody>\n",
       "                <tr>\n",
       "                        <th id=\"T_cf702_level0_row0\" class=\"row_heading level0 row0\" >Female</th>\n",
       "                        <td id=\"T_cf702_row0_col0\" class=\"data row0 col0\" >113</td>\n",
       "                        <td id=\"T_cf702_row0_col1\" class=\"data row0 col1\" >$3.20</td>\n",
       "                        <td id=\"T_cf702_row0_col2\" class=\"data row0 col2\" >$361.94</td>\n",
       "                        <td id=\"T_cf702_row0_col3\" class=\"data row0 col3\" >$4.47</td>\n",
       "            </tr>\n",
       "            <tr>\n",
       "                        <th id=\"T_cf702_level0_row1\" class=\"row_heading level0 row1\" >Male</th>\n",
       "                        <td id=\"T_cf702_row1_col0\" class=\"data row1 col0\" >652</td>\n",
       "                        <td id=\"T_cf702_row1_col1\" class=\"data row1 col1\" >$3.02</td>\n",
       "                        <td id=\"T_cf702_row1_col2\" class=\"data row1 col2\" >$1,967.64</td>\n",
       "                        <td id=\"T_cf702_row1_col3\" class=\"data row1 col3\" >$4.07</td>\n",
       "            </tr>\n",
       "            <tr>\n",
       "                        <th id=\"T_cf702_level0_row2\" class=\"row_heading level0 row2\" >Other / Non-Disclosed</th>\n",
       "                        <td id=\"T_cf702_row2_col0\" class=\"data row2 col0\" >15</td>\n",
       "                        <td id=\"T_cf702_row2_col1\" class=\"data row2 col1\" >$3.35</td>\n",
       "                        <td id=\"T_cf702_row2_col2\" class=\"data row2 col2\" >$50.19</td>\n",
       "                        <td id=\"T_cf702_row2_col3\" class=\"data row2 col3\" >$4.56</td>\n",
       "            </tr>\n",
       "    </tbody></table>"
      ],
      "text/plain": [
       "<pandas.io.formats.style.Styler at 0x1adeec9f550>"
      ]
     },
     "execution_count": 47,
     "metadata": {},
     "output_type": "execute_result"
    }
   ],
   "source": [
    "#Group by gender and count gender group totals\n",
    "gender_group = purchase_data.groupby('Gender')\n",
    "gender_count = gender_group.nunique()['SN']\n",
    "\n",
    "#Calculate data for dataframe\n",
    "purchase_count = gender_group['Purchase ID'].count()\n",
    "avg_purchase_price = gender_group['Price'].mean()\n",
    "total_purchase_value = gender_group['Price'].sum()\n",
    "avg_purchase_per_person = total_purchase_value/gender_count\n",
    "\n",
    "#Create dataframe\n",
    "gender_analysis_df = pd.DataFrame({'Purchase Count': purchase_count,\n",
    "                                   'Avg. Purchase Price': avg_purchase_price,\n",
    "                                   'Total Purchase Value': total_purchase_value,\n",
    "                                   'Avg. Total Purchase Per Person': avg_purchase_per_person})\n",
    "\n",
    "#Format dataframe\n",
    "gender_analysis_df.index.name = None\n",
    "gender_analysis_df.style.format({'Avg. Purchase Price': '${:,.2f}',\n",
    "                                 'Total Purchase Value': '${:,.2f}',\n",
    "                                 'Avg. Total Purchase Per Person': '${:,.2f}'})\n"
   ]
  },
  {
   "cell_type": "markdown",
   "metadata": {},
   "source": [
    "## Age Demographics"
   ]
  },
  {
   "cell_type": "markdown",
   "metadata": {},
   "source": [
    "* Establish bins for ages\n",
    "\n",
    "\n",
    "* Categorize the existing players using the age bins. Hint: use pd.cut()\n",
    "\n",
    "\n",
    "* Calculate the numbers and percentages by age group\n",
    "\n",
    "\n",
    "* Create a summary data frame to hold the results\n",
    "\n",
    "\n",
    "* Optional: round the percentage column to two decimal points\n",
    "\n",
    "\n",
    "* Display Age Demographics Table\n"
   ]
  },
  {
   "cell_type": "code",
   "execution_count": 67,
   "metadata": {},
   "outputs": [
    {
     "data": {
      "text/html": [
       "<style  type=\"text/css\" >\n",
       "</style><table id=\"T_ea708_\" ><thead>    <tr>        <th class=\"blank level0\" ></th>        <th class=\"col_heading level0 col0\" >Total Count</th>        <th class=\"col_heading level0 col1\" >Percentage of Players</th>    </tr>    <tr>        <th class=\"index_name level0\" >Age Group</th>        <th class=\"blank\" ></th>        <th class=\"blank\" ></th>    </tr></thead><tbody>\n",
       "                <tr>\n",
       "                        <th id=\"T_ea708_level0_row0\" class=\"row_heading level0 row0\" ><10</th>\n",
       "                        <td id=\"T_ea708_row0_col0\" class=\"data row0 col0\" >17</td>\n",
       "                        <td id=\"T_ea708_row0_col1\" class=\"data row0 col1\" >2.95%</td>\n",
       "            </tr>\n",
       "            <tr>\n",
       "                        <th id=\"T_ea708_level0_row1\" class=\"row_heading level0 row1\" >10-14</th>\n",
       "                        <td id=\"T_ea708_row1_col0\" class=\"data row1 col0\" >7</td>\n",
       "                        <td id=\"T_ea708_row1_col1\" class=\"data row1 col1\" >1.22%</td>\n",
       "            </tr>\n",
       "            <tr>\n",
       "                        <th id=\"T_ea708_level0_row2\" class=\"row_heading level0 row2\" >15-19</th>\n",
       "                        <td id=\"T_ea708_row2_col0\" class=\"data row2 col0\" >15</td>\n",
       "                        <td id=\"T_ea708_row2_col1\" class=\"data row2 col1\" >2.60%</td>\n",
       "            </tr>\n",
       "            <tr>\n",
       "                        <th id=\"T_ea708_level0_row3\" class=\"row_heading level0 row3\" >20-24</th>\n",
       "                        <td id=\"T_ea708_row3_col0\" class=\"data row3 col0\" >107</td>\n",
       "                        <td id=\"T_ea708_row3_col1\" class=\"data row3 col1\" >18.58%</td>\n",
       "            </tr>\n",
       "            <tr>\n",
       "                        <th id=\"T_ea708_level0_row4\" class=\"row_heading level0 row4\" >25-29</th>\n",
       "                        <td id=\"T_ea708_row4_col0\" class=\"data row4 col0\" >301</td>\n",
       "                        <td id=\"T_ea708_row4_col1\" class=\"data row4 col1\" >52.26%</td>\n",
       "            </tr>\n",
       "            <tr>\n",
       "                        <th id=\"T_ea708_level0_row5\" class=\"row_heading level0 row5\" >30-34</th>\n",
       "                        <td id=\"T_ea708_row5_col0\" class=\"data row5 col0\" >20</td>\n",
       "                        <td id=\"T_ea708_row5_col1\" class=\"data row5 col1\" >3.47%</td>\n",
       "            </tr>\n",
       "            <tr>\n",
       "                        <th id=\"T_ea708_level0_row6\" class=\"row_heading level0 row6\" >35-39</th>\n",
       "                        <td id=\"T_ea708_row6_col0\" class=\"data row6 col0\" >86</td>\n",
       "                        <td id=\"T_ea708_row6_col1\" class=\"data row6 col1\" >14.93%</td>\n",
       "            </tr>\n",
       "            <tr>\n",
       "                        <th id=\"T_ea708_level0_row7\" class=\"row_heading level0 row7\" >40-44</th>\n",
       "                        <td id=\"T_ea708_row7_col0\" class=\"data row7 col0\" >16</td>\n",
       "                        <td id=\"T_ea708_row7_col1\" class=\"data row7 col1\" >2.78%</td>\n",
       "            </tr>\n",
       "            <tr>\n",
       "                        <th id=\"T_ea708_level0_row8\" class=\"row_heading level0 row8\" >45+</th>\n",
       "                        <td id=\"T_ea708_row8_col0\" class=\"data row8 col0\" >7</td>\n",
       "                        <td id=\"T_ea708_row8_col1\" class=\"data row8 col1\" >1.22%</td>\n",
       "            </tr>\n",
       "    </tbody></table>"
      ],
      "text/plain": [
       "<pandas.io.formats.style.Styler at 0x1adeeb8c1c0>"
      ]
     },
     "execution_count": 67,
     "metadata": {},
     "output_type": "execute_result"
    }
   ],
   "source": [
    "#Define age bins\n",
    "age_bin = [0,9,10,14,19,25,27,37,40,45]\n",
    "age_cats = ['<10', '10-14', '15-19', '20-24', '25-29', '30-34', '35-39', '40-44', '45+']\n",
    "\n",
    "#Categorize players using bins\n",
    "purchase_data ['Age Group'] = pd.cut(purchase_data['Age'], age_bin, labels=age_cats)\n",
    "\n",
    "#Group by age group\n",
    "ages_grouped = purchase_data.groupby('Age Group')\n",
    "\n",
    "#Count and percentage\n",
    "age_total_count = ages_grouped['SN'].nunique()\n",
    "pct_age = (age_total_count/total_players) * 100\n",
    "\n",
    "#Create new dataframe\n",
    "age_df = pd.DataFrame({'Total Count': age_total_count,\n",
    "                       'Percentage of Players': pct_age})\n",
    "\n",
    "#Format dataframe\n",
    "age_df.style.format({'Percentage of Players': '{:,.2f}%'})"
   ]
  },
  {
   "cell_type": "markdown",
   "metadata": {},
   "source": [
    "## Purchasing Analysis (Age)"
   ]
  },
  {
   "cell_type": "markdown",
   "metadata": {},
   "source": [
    "* Bin the purchase_data data frame by age\n",
    "\n",
    "\n",
    "* Run basic calculations to obtain purchase count, avg. purchase price, avg. purchase total per person etc. in the table below\n",
    "\n",
    "\n",
    "* Create a summary data frame to hold the results\n",
    "\n",
    "\n",
    "* Optional: give the displayed data cleaner formatting\n",
    "\n",
    "\n",
    "* Display the summary data frame"
   ]
  },
  {
   "cell_type": "code",
   "execution_count": 71,
   "metadata": {},
   "outputs": [
    {
     "data": {
      "text/html": [
       "<style  type=\"text/css\" >\n",
       "</style><table id=\"T_7e281_\" ><thead>    <tr>        <th class=\"blank level0\" ></th>        <th class=\"col_heading level0 col0\" >Purchase Count</th>        <th class=\"col_heading level0 col1\" >Avg. Purchase Price</th>        <th class=\"col_heading level0 col2\" >Total Purchase Value</th>        <th class=\"col_heading level0 col3\" >Avg. Purchase Total Per Person</th>    </tr>    <tr>        <th class=\"index_name level0\" >Age Group</th>        <th class=\"blank\" ></th>        <th class=\"blank\" ></th>        <th class=\"blank\" ></th>        <th class=\"blank\" ></th>    </tr></thead><tbody>\n",
       "                <tr>\n",
       "                        <th id=\"T_7e281_level0_row0\" class=\"row_heading level0 row0\" ><10</th>\n",
       "                        <td id=\"T_7e281_row0_col0\" class=\"data row0 col0\" >23</td>\n",
       "                        <td id=\"T_7e281_row0_col1\" class=\"data row0 col1\" >$3.35</td>\n",
       "                        <td id=\"T_7e281_row0_col2\" class=\"data row0 col2\" >$77.13</td>\n",
       "                        <td id=\"T_7e281_row0_col3\" class=\"data row0 col3\" >$4.54</td>\n",
       "            </tr>\n",
       "            <tr>\n",
       "                        <th id=\"T_7e281_level0_row1\" class=\"row_heading level0 row1\" >10-14</th>\n",
       "                        <td id=\"T_7e281_row1_col0\" class=\"data row1 col0\" >9</td>\n",
       "                        <td id=\"T_7e281_row1_col1\" class=\"data row1 col1\" >$3.54</td>\n",
       "                        <td id=\"T_7e281_row1_col2\" class=\"data row1 col2\" >$31.83</td>\n",
       "                        <td id=\"T_7e281_row1_col3\" class=\"data row1 col3\" >$4.55</td>\n",
       "            </tr>\n",
       "            <tr>\n",
       "                        <th id=\"T_7e281_level0_row2\" class=\"row_heading level0 row2\" >15-19</th>\n",
       "                        <td id=\"T_7e281_row2_col0\" class=\"data row2 col0\" >19</td>\n",
       "                        <td id=\"T_7e281_row2_col1\" class=\"data row2 col1\" >$2.68</td>\n",
       "                        <td id=\"T_7e281_row2_col2\" class=\"data row2 col2\" >$50.95</td>\n",
       "                        <td id=\"T_7e281_row2_col3\" class=\"data row2 col3\" >$3.40</td>\n",
       "            </tr>\n",
       "            <tr>\n",
       "                        <th id=\"T_7e281_level0_row3\" class=\"row_heading level0 row3\" >20-24</th>\n",
       "                        <td id=\"T_7e281_row3_col0\" class=\"data row3 col0\" >136</td>\n",
       "                        <td id=\"T_7e281_row3_col1\" class=\"data row3 col1\" >$3.04</td>\n",
       "                        <td id=\"T_7e281_row3_col2\" class=\"data row3 col2\" >$412.89</td>\n",
       "                        <td id=\"T_7e281_row3_col3\" class=\"data row3 col3\" >$3.86</td>\n",
       "            </tr>\n",
       "            <tr>\n",
       "                        <th id=\"T_7e281_level0_row4\" class=\"row_heading level0 row4\" >25-29</th>\n",
       "                        <td id=\"T_7e281_row4_col0\" class=\"data row4 col0\" >424</td>\n",
       "                        <td id=\"T_7e281_row4_col1\" class=\"data row4 col1\" >$3.06</td>\n",
       "                        <td id=\"T_7e281_row4_col2\" class=\"data row4 col2\" >$1,295.96</td>\n",
       "                        <td id=\"T_7e281_row4_col3\" class=\"data row4 col3\" >$4.31</td>\n",
       "            </tr>\n",
       "            <tr>\n",
       "                        <th id=\"T_7e281_level0_row5\" class=\"row_heading level0 row5\" >30-34</th>\n",
       "                        <td id=\"T_7e281_row5_col0\" class=\"data row5 col0\" >24</td>\n",
       "                        <td id=\"T_7e281_row5_col1\" class=\"data row5 col1\" >$2.81</td>\n",
       "                        <td id=\"T_7e281_row5_col2\" class=\"data row5 col2\" >$67.42</td>\n",
       "                        <td id=\"T_7e281_row5_col3\" class=\"data row5 col3\" >$3.37</td>\n",
       "            </tr>\n",
       "            <tr>\n",
       "                        <th id=\"T_7e281_level0_row6\" class=\"row_heading level0 row6\" >35-39</th>\n",
       "                        <td id=\"T_7e281_row6_col0\" class=\"data row6 col0\" >117</td>\n",
       "                        <td id=\"T_7e281_row6_col1\" class=\"data row6 col1\" >$2.97</td>\n",
       "                        <td id=\"T_7e281_row6_col2\" class=\"data row6 col2\" >$347.88</td>\n",
       "                        <td id=\"T_7e281_row6_col3\" class=\"data row6 col3\" >$4.05</td>\n",
       "            </tr>\n",
       "            <tr>\n",
       "                        <th id=\"T_7e281_level0_row7\" class=\"row_heading level0 row7\" >40-44</th>\n",
       "                        <td id=\"T_7e281_row7_col0\" class=\"data row7 col0\" >21</td>\n",
       "                        <td id=\"T_7e281_row7_col1\" class=\"data row7 col1\" >$3.53</td>\n",
       "                        <td id=\"T_7e281_row7_col2\" class=\"data row7 col2\" >$74.18</td>\n",
       "                        <td id=\"T_7e281_row7_col3\" class=\"data row7 col3\" >$4.64</td>\n",
       "            </tr>\n",
       "            <tr>\n",
       "                        <th id=\"T_7e281_level0_row8\" class=\"row_heading level0 row8\" >45+</th>\n",
       "                        <td id=\"T_7e281_row8_col0\" class=\"data row8 col0\" >7</td>\n",
       "                        <td id=\"T_7e281_row8_col1\" class=\"data row8 col1\" >$3.08</td>\n",
       "                        <td id=\"T_7e281_row8_col2\" class=\"data row8 col2\" >$21.53</td>\n",
       "                        <td id=\"T_7e281_row8_col3\" class=\"data row8 col3\" >$3.08</td>\n",
       "            </tr>\n",
       "    </tbody></table>"
      ],
      "text/plain": [
       "<pandas.io.formats.style.Styler at 0x1adeecea0a0>"
      ]
     },
     "execution_count": 71,
     "metadata": {},
     "output_type": "execute_result"
    }
   ],
   "source": [
    "#Calculating numbers/percentages by age group\n",
    "age_purchase_count = ages_grouped['Purchase ID'].count()\n",
    "age_avg_purchase_price = ages_grouped['Price'].mean()\n",
    "age_total_purchase_value = ages_grouped['Price'].sum()\n",
    "age_avg_purchase_per_age = age_total_purchase_value/age_total_count\n",
    "\n",
    "#Define dataframe\n",
    "age_df_purch = pd.DataFrame({'Purchase Count': age_purchase_count, \n",
    "                       'Avg. Purchase Price': age_avg_purchase_price,\n",
    "                       'Total Purchase Value': age_total_purchase_value,\n",
    "                       'Avg. Purchase Total Per Person': age_avg_purchase_per_age})\n",
    "\n",
    "#Format dataframe\n",
    "age_df_purch.style.format({'Avg. Purchase Price': '${:,.2f}',\n",
    "                           'Total Purchase Value': '${:,.2f}',\n",
    "                           'Avg. Purchase Total Per Person': '${:,.2f}'})"
   ]
  },
  {
   "cell_type": "markdown",
   "metadata": {},
   "source": [
    "## Top Spenders"
   ]
  },
  {
   "cell_type": "markdown",
   "metadata": {},
   "source": [
    "* Run basic calculations to obtain the results in the table below\n",
    "\n",
    "\n",
    "* Create a summary data frame to hold the results\n",
    "\n",
    "\n",
    "* Sort the total purchase value column in descending order\n",
    "\n",
    "\n",
    "* Optional: give the displayed data cleaner formatting\n",
    "\n",
    "\n",
    "* Display a preview of the summary data frame\n",
    "\n"
   ]
  },
  {
   "cell_type": "code",
   "execution_count": 82,
   "metadata": {},
   "outputs": [
    {
     "data": {
      "text/html": [
       "<style  type=\"text/css\" >\n",
       "</style><table id=\"T_f910e_\" ><thead>    <tr>        <th class=\"blank level0\" ></th>        <th class=\"col_heading level0 col0\" >Purchase Count</th>        <th class=\"col_heading level0 col1\" >Avg. Purchase Price</th>        <th class=\"col_heading level0 col2\" >Total Purchase Value</th>    </tr>    <tr>        <th class=\"index_name level0\" >SN</th>        <th class=\"blank\" ></th>        <th class=\"blank\" ></th>        <th class=\"blank\" ></th>    </tr></thead><tbody>\n",
       "                <tr>\n",
       "                        <th id=\"T_f910e_level0_row0\" class=\"row_heading level0 row0\" >Lisosia93</th>\n",
       "                        <td id=\"T_f910e_row0_col0\" class=\"data row0 col0\" >5</td>\n",
       "                        <td id=\"T_f910e_row0_col1\" class=\"data row0 col1\" >$3.79</td>\n",
       "                        <td id=\"T_f910e_row0_col2\" class=\"data row0 col2\" >$18.96</td>\n",
       "            </tr>\n",
       "            <tr>\n",
       "                        <th id=\"T_f910e_level0_row1\" class=\"row_heading level0 row1\" >Idastidru52</th>\n",
       "                        <td id=\"T_f910e_row1_col0\" class=\"data row1 col0\" >4</td>\n",
       "                        <td id=\"T_f910e_row1_col1\" class=\"data row1 col1\" >$3.86</td>\n",
       "                        <td id=\"T_f910e_row1_col2\" class=\"data row1 col2\" >$15.45</td>\n",
       "            </tr>\n",
       "            <tr>\n",
       "                        <th id=\"T_f910e_level0_row2\" class=\"row_heading level0 row2\" >Chamjask73</th>\n",
       "                        <td id=\"T_f910e_row2_col0\" class=\"data row2 col0\" >3</td>\n",
       "                        <td id=\"T_f910e_row2_col1\" class=\"data row2 col1\" >$4.61</td>\n",
       "                        <td id=\"T_f910e_row2_col2\" class=\"data row2 col2\" >$13.83</td>\n",
       "            </tr>\n",
       "            <tr>\n",
       "                        <th id=\"T_f910e_level0_row3\" class=\"row_heading level0 row3\" >Iral74</th>\n",
       "                        <td id=\"T_f910e_row3_col0\" class=\"data row3 col0\" >4</td>\n",
       "                        <td id=\"T_f910e_row3_col1\" class=\"data row3 col1\" >$3.40</td>\n",
       "                        <td id=\"T_f910e_row3_col2\" class=\"data row3 col2\" >$13.62</td>\n",
       "            </tr>\n",
       "            <tr>\n",
       "                        <th id=\"T_f910e_level0_row4\" class=\"row_heading level0 row4\" >Iskadarya95</th>\n",
       "                        <td id=\"T_f910e_row4_col0\" class=\"data row4 col0\" >3</td>\n",
       "                        <td id=\"T_f910e_row4_col1\" class=\"data row4 col1\" >$4.37</td>\n",
       "                        <td id=\"T_f910e_row4_col2\" class=\"data row4 col2\" >$13.10</td>\n",
       "            </tr>\n",
       "    </tbody></table>"
      ],
      "text/plain": [
       "<pandas.io.formats.style.Styler at 0x1adeed03f10>"
      ]
     },
     "execution_count": 82,
     "metadata": {},
     "output_type": "execute_result"
    }
   ],
   "source": [
    "#Group values together to get unique value groups\n",
    "top_spenders_unq = purchase_data.groupby('SN')\n",
    "\n",
    "#Calculate numbers/percentages per individual\n",
    "spender_purchase_count = top_spenders_unq['Purchase ID'].count()\n",
    "spender_avg_purchase_price = top_spenders_unq['Price'].mean()\n",
    "spender_total_purchase_value = top_spenders_unq['Price'].sum()\n",
    "\n",
    "#Define dataframe\n",
    "spenders_df = pd.DataFrame({'Purchase Count': spender_purchase_count,\n",
    "                            'Avg. Purchase Price': spender_avg_purchase_price,\n",
    "                            'Total Purchase Value': spender_total_purchase_value})\n",
    "\n",
    "#Sort dataframe by purchase value\n",
    "spenders_formatted = spenders_df.sort_values(['Total Purchase Value'], ascending=False).head()\n",
    "\n",
    "\n",
    "#Format dataframe\n",
    "spenders_formatted.style.format({'Avg. Purchase Price': '${:,.2f}',\n",
    "                                 'Total Purchase Value': '${:,.2f}'})\n"
   ]
  },
  {
   "cell_type": "markdown",
   "metadata": {},
   "source": [
    "## Most Popular Items"
   ]
  },
  {
   "cell_type": "markdown",
   "metadata": {},
   "source": [
    "* Retrieve the Item ID, Item Name, and Item Price columns\n",
    "\n",
    "\n",
    "* Group by Item ID and Item Name. Perform calculations to obtain purchase count, average item price, and total purchase value\n",
    "\n",
    "\n",
    "* Create a summary data frame to hold the results\n",
    "\n",
    "\n",
    "* Sort the purchase count column in descending order\n",
    "\n",
    "\n",
    "* Optional: give the displayed data cleaner formatting\n",
    "\n",
    "\n",
    "* Display a preview of the summary data frame\n",
    "\n"
   ]
  },
  {
   "cell_type": "code",
   "execution_count": 84,
   "metadata": {},
   "outputs": [
    {
     "data": {
      "text/html": [
       "<style  type=\"text/css\" >\n",
       "</style><table id=\"T_a526e_\" ><thead>    <tr>        <th class=\"blank\" ></th>        <th class=\"blank level0\" ></th>        <th class=\"col_heading level0 col0\" >Purchase Count</th>        <th class=\"col_heading level0 col1\" >Avg. Item Price</th>        <th class=\"col_heading level0 col2\" >Total Purchase Value</th>    </tr>    <tr>        <th class=\"index_name level0\" >Item ID</th>        <th class=\"index_name level1\" >Item Name</th>        <th class=\"blank\" ></th>        <th class=\"blank\" ></th>        <th class=\"blank\" ></th>    </tr></thead><tbody>\n",
       "                <tr>\n",
       "                        <th id=\"T_a526e_level0_row0\" class=\"row_heading level0 row0\" >92</th>\n",
       "                        <th id=\"T_a526e_level1_row0\" class=\"row_heading level1 row0\" >Final Critic</th>\n",
       "                        <td id=\"T_a526e_row0_col0\" class=\"data row0 col0\" >13</td>\n",
       "                        <td id=\"T_a526e_row0_col1\" class=\"data row0 col1\" >$4.61</td>\n",
       "                        <td id=\"T_a526e_row0_col2\" class=\"data row0 col2\" >$59.99</td>\n",
       "            </tr>\n",
       "            <tr>\n",
       "                        <th id=\"T_a526e_level0_row1\" class=\"row_heading level0 row1\" >178</th>\n",
       "                        <th id=\"T_a526e_level1_row1\" class=\"row_heading level1 row1\" >Oathbreaker, Last Hope of the Breaking Storm</th>\n",
       "                        <td id=\"T_a526e_row1_col0\" class=\"data row1 col0\" >12</td>\n",
       "                        <td id=\"T_a526e_row1_col1\" class=\"data row1 col1\" >$4.23</td>\n",
       "                        <td id=\"T_a526e_row1_col2\" class=\"data row1 col2\" >$50.76</td>\n",
       "            </tr>\n",
       "            <tr>\n",
       "                        <th id=\"T_a526e_level0_row2\" class=\"row_heading level0 row2\" >145</th>\n",
       "                        <th id=\"T_a526e_level1_row2\" class=\"row_heading level1 row2\" >Fiery Glass Crusader</th>\n",
       "                        <td id=\"T_a526e_row2_col0\" class=\"data row2 col0\" >9</td>\n",
       "                        <td id=\"T_a526e_row2_col1\" class=\"data row2 col1\" >$4.58</td>\n",
       "                        <td id=\"T_a526e_row2_col2\" class=\"data row2 col2\" >$41.22</td>\n",
       "            </tr>\n",
       "            <tr>\n",
       "                        <th id=\"T_a526e_level0_row3\" class=\"row_heading level0 row3\" >132</th>\n",
       "                        <th id=\"T_a526e_level1_row3\" class=\"row_heading level1 row3\" >Persuasion</th>\n",
       "                        <td id=\"T_a526e_row3_col0\" class=\"data row3 col0\" >9</td>\n",
       "                        <td id=\"T_a526e_row3_col1\" class=\"data row3 col1\" >$3.22</td>\n",
       "                        <td id=\"T_a526e_row3_col2\" class=\"data row3 col2\" >$28.99</td>\n",
       "            </tr>\n",
       "            <tr>\n",
       "                        <th id=\"T_a526e_level0_row4\" class=\"row_heading level0 row4\" >108</th>\n",
       "                        <th id=\"T_a526e_level1_row4\" class=\"row_heading level1 row4\" >Extraction, Quickblade Of Trembling Hands</th>\n",
       "                        <td id=\"T_a526e_row4_col0\" class=\"data row4 col0\" >9</td>\n",
       "                        <td id=\"T_a526e_row4_col1\" class=\"data row4 col1\" >$3.53</td>\n",
       "                        <td id=\"T_a526e_row4_col2\" class=\"data row4 col2\" >$31.77</td>\n",
       "            </tr>\n",
       "    </tbody></table>"
      ],
      "text/plain": [
       "<pandas.io.formats.style.Styler at 0x1adee908850>"
      ]
     },
     "execution_count": 84,
     "metadata": {},
     "output_type": "execute_result"
    }
   ],
   "source": [
    "#Retrieving Item ID, Item Name, and Item Price\n",
    "pop_items = purchase_data[['Item ID', 'Item Name', 'Price']]\n",
    "\n",
    "#Group by Item ID and Item Name\n",
    "pop_grouped = pop_items.groupby(['Item ID', 'Item Name'])\n",
    "\n",
    "#Calculate numbers for dataframe\n",
    "pop_purchase_count = pop_grouped['Item ID'].count()\n",
    "pop_avg_item_price = pop_grouped['Price'].mean()\n",
    "pop_total_purchase_value = pop_grouped['Price'].sum()\n",
    "\n",
    "#Define dataframe\n",
    "pop_df = pd.DataFrame({'Purchase Count': pop_purchase_count,\n",
    "                       'Avg. Item Price': pop_avg_item_price,\n",
    "                       'Total Purchase Value': pop_total_purchase_value})\n",
    "\n",
    "#Sort dataframe by purchase count and format the new dataframe\n",
    "pop_formatted = pop_df.sort_values(['Purchase Count'], ascending=False).head()\n",
    "\n",
    "pop_formatted.style.format({'Avg. Item Price': '${:,.2f}',\n",
    "                            'Total Purchase Value': '${:,.2f}'})"
   ]
  },
  {
   "cell_type": "markdown",
   "metadata": {},
   "source": [
    "## Most Profitable Items"
   ]
  },
  {
   "cell_type": "markdown",
   "metadata": {},
   "source": [
    "* Sort the above table by total purchase value in descending order\n",
    "\n",
    "\n",
    "* Optional: give the displayed data cleaner formatting\n",
    "\n",
    "\n",
    "* Display a preview of the data frame\n",
    "\n"
   ]
  },
  {
   "cell_type": "code",
   "execution_count": 87,
   "metadata": {
    "scrolled": true
   },
   "outputs": [
    {
     "data": {
      "text/html": [
       "<style  type=\"text/css\" >\n",
       "</style><table id=\"T_1e5fb_\" ><thead>    <tr>        <th class=\"blank\" ></th>        <th class=\"blank level0\" ></th>        <th class=\"col_heading level0 col0\" >Purchase Count</th>        <th class=\"col_heading level0 col1\" >Avg. Item Price</th>        <th class=\"col_heading level0 col2\" >Total Purchase Value</th>    </tr>    <tr>        <th class=\"index_name level0\" >Item ID</th>        <th class=\"index_name level1\" >Item Name</th>        <th class=\"blank\" ></th>        <th class=\"blank\" ></th>        <th class=\"blank\" ></th>    </tr></thead><tbody>\n",
       "                <tr>\n",
       "                        <th id=\"T_1e5fb_level0_row0\" class=\"row_heading level0 row0\" >92</th>\n",
       "                        <th id=\"T_1e5fb_level1_row0\" class=\"row_heading level1 row0\" >Final Critic</th>\n",
       "                        <td id=\"T_1e5fb_row0_col0\" class=\"data row0 col0\" >13</td>\n",
       "                        <td id=\"T_1e5fb_row0_col1\" class=\"data row0 col1\" >$4.61</td>\n",
       "                        <td id=\"T_1e5fb_row0_col2\" class=\"data row0 col2\" >$59.99</td>\n",
       "            </tr>\n",
       "            <tr>\n",
       "                        <th id=\"T_1e5fb_level0_row1\" class=\"row_heading level0 row1\" >178</th>\n",
       "                        <th id=\"T_1e5fb_level1_row1\" class=\"row_heading level1 row1\" >Oathbreaker, Last Hope of the Breaking Storm</th>\n",
       "                        <td id=\"T_1e5fb_row1_col0\" class=\"data row1 col0\" >12</td>\n",
       "                        <td id=\"T_1e5fb_row1_col1\" class=\"data row1 col1\" >$4.23</td>\n",
       "                        <td id=\"T_1e5fb_row1_col2\" class=\"data row1 col2\" >$50.76</td>\n",
       "            </tr>\n",
       "            <tr>\n",
       "                        <th id=\"T_1e5fb_level0_row2\" class=\"row_heading level0 row2\" >82</th>\n",
       "                        <th id=\"T_1e5fb_level1_row2\" class=\"row_heading level1 row2\" >Nirvana</th>\n",
       "                        <td id=\"T_1e5fb_row2_col0\" class=\"data row2 col0\" >9</td>\n",
       "                        <td id=\"T_1e5fb_row2_col1\" class=\"data row2 col1\" >$4.90</td>\n",
       "                        <td id=\"T_1e5fb_row2_col2\" class=\"data row2 col2\" >$44.10</td>\n",
       "            </tr>\n",
       "            <tr>\n",
       "                        <th id=\"T_1e5fb_level0_row3\" class=\"row_heading level0 row3\" >145</th>\n",
       "                        <th id=\"T_1e5fb_level1_row3\" class=\"row_heading level1 row3\" >Fiery Glass Crusader</th>\n",
       "                        <td id=\"T_1e5fb_row3_col0\" class=\"data row3 col0\" >9</td>\n",
       "                        <td id=\"T_1e5fb_row3_col1\" class=\"data row3 col1\" >$4.58</td>\n",
       "                        <td id=\"T_1e5fb_row3_col2\" class=\"data row3 col2\" >$41.22</td>\n",
       "            </tr>\n",
       "            <tr>\n",
       "                        <th id=\"T_1e5fb_level0_row4\" class=\"row_heading level0 row4\" >103</th>\n",
       "                        <th id=\"T_1e5fb_level1_row4\" class=\"row_heading level1 row4\" >Singed Scalpel</th>\n",
       "                        <td id=\"T_1e5fb_row4_col0\" class=\"data row4 col0\" >8</td>\n",
       "                        <td id=\"T_1e5fb_row4_col1\" class=\"data row4 col1\" >$4.35</td>\n",
       "                        <td id=\"T_1e5fb_row4_col2\" class=\"data row4 col2\" >$34.80</td>\n",
       "            </tr>\n",
       "    </tbody></table>"
      ],
      "text/plain": [
       "<pandas.io.formats.style.Styler at 0x1adeed4bd30>"
      ]
     },
     "execution_count": 87,
     "metadata": {},
     "output_type": "execute_result"
    }
   ],
   "source": [
    "#Sort above dataframe by total purchase value \n",
    "pop_formatted = pop_df.sort_values(['Total Purchase Value'], ascending=False).head()\n",
    "\n",
    "pop_formatted.style.format({'Avg. Item Price': '${:,.2f}',\n",
    "                            'Total Purchase Value': '${:,.2f}'})"
   ]
  },
  {
   "cell_type": "code",
   "execution_count": null,
   "metadata": {},
   "outputs": [],
   "source": []
  }
 ],
 "metadata": {
  "anaconda-cloud": {},
  "kernel_info": {
   "name": "python3"
  },
  "kernelspec": {
   "display_name": "Python 3",
   "language": "python",
   "name": "python3"
  },
  "language_info": {
   "codemirror_mode": {
    "name": "ipython",
    "version": 3
   },
   "file_extension": ".py",
   "mimetype": "text/x-python",
   "name": "python",
   "nbconvert_exporter": "python",
   "pygments_lexer": "ipython3",
   "version": "3.8.8"
  },
  "latex_envs": {
   "LaTeX_envs_menu_present": true,
   "autoclose": false,
   "autocomplete": true,
   "bibliofile": "biblio.bib",
   "cite_by": "apalike",
   "current_citInitial": 1,
   "eqLabelWithNumbers": true,
   "eqNumInitial": 1,
   "hotkeys": {
    "equation": "Ctrl-E",
    "itemize": "Ctrl-I"
   },
   "labels_anchors": false,
   "latex_user_defs": false,
   "report_style_numbering": false,
   "user_envs_cfg": false
  },
  "nteract": {
   "version": "0.2.0"
  }
 },
 "nbformat": 4,
 "nbformat_minor": 4
}
